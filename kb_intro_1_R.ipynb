{
  "nbformat": 4,
  "nbformat_minor": 0,
  "metadata": {
    "kernelspec": {
      "display_name": "R",
      "language": "R",
      "name": "ir"
    },
    "language_info": {
      "codemirror_mode": "r",
      "file_extension": ".r",
      "mimetype": "text/x-r-source",
      "name": "R",
      "pygments_lexer": "r",
      "version": "3.6.2"
    },
    "colab": {
      "name": "kb_intro_1_R.ipynb",
      "provenance": [],
      "toc_visible": true,
      "include_colab_link": true
    }
  },
  "cells": [
    {
      "cell_type": "markdown",
      "metadata": {
        "id": "view-in-github",
        "colab_type": "text"
      },
      "source": [
        "<a href=\"https://colab.research.google.com/github/gpertea/scRNAutils/blob/master/kb_intro_1_R.ipynb\" target=\"_parent\"><img src=\"https://colab.research.google.com/assets/colab-badge.svg\" alt=\"Open In Colab\"/></a>"
      ]
    },
    {
      "cell_type": "markdown",
      "metadata": {
        "id": "37_Gm6SuInoO",
        "colab_type": "text"
      },
      "source": [
        "# Introduction to single-cell RNA-seq I: pre-processing and quality control\n",
        "\n",
        "This R notebook demonstrates the use of the kallisto and bustools programs for pre-processing single-cell RNA-seq data ([also available as a Python notebook](https://colab.research.google.com/github/pachterlab/kallistobustools/blob/master/notebooks/kb_intro_1_python.ipynb)). It streams in 1 million *C. elegans* reads, pseudoaligns them, and produces a *cells x genes* count matrix in about a minute. The notebook then performs some basic QC. It expands on a notebook prepared by Sina Booeshaghi for the Genome Informatics 2019 meeting, where he ran it in under 60 seconds during a 1 minute \"lightning talk\".\n",
        "\n",
        "The [kallistobus.tools tutorials](https://www.kallistobus.tools/tutorials) site has a extensive list of follow-up tutorials and vignettes on single-cell RNA-seq."
      ]
    },
    {
      "cell_type": "code",
      "metadata": {
        "id": "rnFE35rvKNo7",
        "colab_type": "code",
        "cellView": "form",
        "colab": {
          "base_uri": "https://localhost:8080/",
          "height": 388
        },
        "outputId": "8ceb3a57-9ddc-4c14-f4ee-68866fbdb724"
      },
      "source": [
        "#@title\n",
        "install.packages(\"vembedr\")\n",
        "library(\"htmltools\")\n",
        "library(\"vembedr\")\n",
        "embed_youtube(\"x-rNofr88BM\", width=560, height=315)\n"
      ],
      "execution_count": null,
      "outputs": [
        {
          "output_type": "stream",
          "text": [
            "Installing package into ‘/usr/local/lib/R/site-library’\n",
            "(as ‘lib’ is unspecified)\n",
            "\n"
          ],
          "name": "stderr"
        },
        {
          "output_type": "display_data",
          "data": {
            "text/plain": [
              "Shiny tags cannot be represented in plain text (need html)"
            ],
            "text/html": [
              "<!doctype html>\n",
              "<html>\n",
              "\t<head>\n",
              "\t\t<meta charset=\"utf-8\">\n",
              "\t\t\n",
              "\t</head>\n",
              "\t<body>\n",
              "\t\t<iframe src=\"https://www.youtube.com/embed/x-rNofr88BM\" width=\"560\" height=\"315\" frameborder=\"0\" allowfullscreen=\"\"></iframe>\n",
              "\t</body>\n",
              "</html>\n"
            ]
          },
          "metadata": {
            "tags": [],
            "text/html": {
              "isolated": true
            }
          }
        }
      ]
    },
    {
      "cell_type": "markdown",
      "metadata": {
        "id": "oJdACvlBDS9e",
        "colab_type": "text"
      },
      "source": [
        "The notebook was written by A. Sina Booeshaghi, Lambda Lu and Lior Pachter. If you use the methods in this notebook for your analysis please cite the following publication, on which it is based:\n",
        "\n",
        "* Melsted, P., Booeshaghi, A.S. et al. Modular and efficient pre-processing of single-cell RNA-seq. bioRxiv (2019). doi:10.1101/673285"
      ]
    },
    {
      "cell_type": "markdown",
      "metadata": {
        "id": "5WsUZWoYDWFJ",
        "colab_type": "text"
      },
      "source": [
        "## Setup"
      ]
    },
    {
      "cell_type": "code",
      "metadata": {
        "id": "gZRSfqv0JEwx",
        "colab_type": "code",
        "colab": {}
      },
      "source": [
        "# This is  used to time the running of the notebook\n",
        "start_time <- Sys.time()"
      ],
      "execution_count": null,
      "outputs": []
    },
    {
      "cell_type": "markdown",
      "metadata": {
        "id": "ZUof2P6iDcRm",
        "colab_type": "text"
      },
      "source": [
        "### Install R packages"
      ]
    },
    {
      "cell_type": "code",
      "metadata": {
        "id": "oDT4tUmS3t6Y",
        "colab_type": "code",
        "colab": {
          "base_uri": "https://localhost:8080/",
          "height": 69
        },
        "outputId": "83e2f0ee-cf17-41d4-f7a1-655c8881a009"
      },
      "source": [
        "install.packages(c(\"irlba\", \"scico\"), Ncpus = 2)"
      ],
      "execution_count": null,
      "outputs": [
        {
          "output_type": "stream",
          "text": [
            "Installing packages into ‘/usr/local/lib/R/site-library’\n",
            "(as ‘lib’ is unspecified)\n",
            "\n"
          ],
          "name": "stderr"
        }
      ]
    },
    {
      "cell_type": "code",
      "metadata": {
        "id": "qRYYqfaIvaJ5",
        "colab_type": "code",
        "colab": {}
      },
      "source": [
        "library(Matrix)\n",
        "library(irlba)\n",
        "library(ggplot2) # Tidyverse is pre-installed, yay!\n",
        "library(dplyr)\n",
        "library(scico)\n",
        "theme_set(theme_bw())"
      ],
      "execution_count": null,
      "outputs": []
    },
    {
      "cell_type": "markdown",
      "metadata": {
        "id": "MM8YzRJ6EGMV",
        "colab_type": "text"
      },
      "source": [
        "### Install kb-python (includes kallisto and bustools)"
      ]
    },
    {
      "cell_type": "code",
      "metadata": {
        "id": "HwgcjX0lv5KS",
        "colab_type": "code",
        "colab": {}
      },
      "source": [
        "system(\"pip3 install kb-python\")"
      ],
      "execution_count": null,
      "outputs": []
    },
    {
      "cell_type": "markdown",
      "metadata": {
        "id": "t9kj57XYEOMm",
        "colab_type": "text"
      },
      "source": [
        "## Download required files"
      ]
    },
    {
      "cell_type": "code",
      "metadata": {
        "id": "o7lq_daRvlGG",
        "colab_type": "code",
        "colab": {}
      },
      "source": [
        "# The quantification of single-cell RNA-seq with kallisto requires an index. \n",
        "# Indices are species specific and can be generated or downloaded directly with `kb`. \n",
        "# Here we download a pre-made index for C. elegans (the idx.idx file) along with an auxillary file (t2g.txt) \n",
        "# that describes the relationship between transcripts and genes.\n",
        "download.file(\"https://caltech.box.com/shared/static/82yv415pkbdixhzi55qac1htiaph9ng4.idx\",\n",
        "destfile = \"idx.idx\")\n",
        "download.file(\"https://caltech.box.com/shared/static/cflxji16171skf3syzm8scoxkcvbl97x.txt\",\n",
        "destfile = \"t2g.txt\")"
      ],
      "execution_count": null,
      "outputs": []
    },
    {
      "cell_type": "markdown",
      "metadata": {
        "id": "-qrPpZ_VwDsX",
        "colab_type": "text"
      },
      "source": [
        "## Pseudoalignment and counting"
      ]
    },
    {
      "cell_type": "markdown",
      "metadata": {
        "id": "QL1HFAz3wBSd",
        "colab_type": "text"
      },
      "source": [
        "In this notebook we pseudoalign 1 million *C. elegans* reads and count UMIs to produce a *cells x genes* matrix. These are located at XXX and instead of being downloaded, are streamed directly to the Google Colab notebook for quantification. \n",
        "See [this blog post](https://sinabooeshaghi.com/2019/07/09/fasterq-to-count-matrices-for-single-cell-rna-seq/) for more details on how the streaming works.\n",
        "\n",
        "The data consists of a subset of reads from [GSE126954](https://www.ncbi.nlm.nih.gov/geo/query/acc.cgi?acc=GSE126954) described in the paper:\n",
        "\n",
        "* Packer, J., Zhu, Q. et al. [A lineage-resolved molecular atlas of C. elegans embryogenesis at single-cell resolution](https://science.sciencemag.org/content/365/6459/eaax1971/tab-e-letters). Science (2019). doi:10.1126/science.aax1971"
      ]
    },
    {
      "cell_type": "markdown",
      "metadata": {
        "id": "9kwoViuIE2Yc",
        "colab_type": "text"
      },
      "source": [
        "### Run kallisto and bustools"
      ]
    },
    {
      "cell_type": "code",
      "metadata": {
        "id": "YqXp8YFUwi9N",
        "colab_type": "code",
        "colab": {
          "base_uri": "https://localhost:8080/",
          "height": 17
        },
        "outputId": "ba78cd07-3399-446a-d570-56650e5fa781"
      },
      "source": [
        "system(\"kb count -i idx.idx -g t2g.txt --overwrite -t 2 -x 10xv2 https://caltech.box.com/shared/static/fh81mkceb8ydwma3tlrqfgq22z4kc4nt.gz https://caltech.box.com/shared/static/ycxkluj5my7g3wiwhyq3vhv71mw5gmj5.gz\",\n",
        "intern = TRUE)"
      ],
      "execution_count": null,
      "outputs": [
        {
          "output_type": "display_data",
          "data": {
            "text/plain": [
              "character(0)"
            ],
            "text/latex": "",
            "text/markdown": "",
            "text/html": [
              ""
            ]
          },
          "metadata": {
            "tags": []
          }
        }
      ]
    },
    {
      "cell_type": "markdown",
      "metadata": {
        "id": "jB3xN-9-zgqN",
        "colab_type": "text"
      },
      "source": [
        "## Basic QC\n",
        "\n"
      ]
    },
    {
      "cell_type": "markdown",
      "metadata": {
        "id": "rAvmRPueE87x",
        "colab_type": "text"
      },
      "source": [
        "### Represent the cells in 2D"
      ]
    },
    {
      "cell_type": "code",
      "metadata": {
        "id": "0BIgRElDzZa2",
        "colab_type": "code",
        "colab": {}
      },
      "source": [
        "# Read in the count matrix that was output by `kb`.\n",
        "mat <- readMM(\"/content/counts_unfiltered/cells_x_genes.mtx\")"
      ],
      "execution_count": null,
      "outputs": []
    },
    {
      "cell_type": "code",
      "metadata": {
        "id": "KYg7rgMg5gus",
        "colab_type": "code",
        "colab": {}
      },
      "source": [
        "# Convert to dgCMatrix, which is a compressed, sparse matrix format\n",
        "mat <- as(mat, \"dgCMatrix\")"
      ],
      "execution_count": null,
      "outputs": []
    },
    {
      "cell_type": "code",
      "metadata": {
        "id": "KjI6tNWizoVv",
        "colab_type": "code",
        "colab": {
          "base_uri": "https://localhost:8080/",
          "height": 34
        },
        "outputId": "25b64ba6-7dd3-4aa4-d005-e0427bffbd09"
      },
      "source": [
        "dim(mat)"
      ],
      "execution_count": null,
      "outputs": [
        {
          "output_type": "display_data",
          "data": {
            "text/plain": [
              "[1] 95372 22113"
            ],
            "text/latex": "\\begin{enumerate*}\n\\item 95372\n\\item 22113\n\\end{enumerate*}\n",
            "text/markdown": "1. 95372\n2. 22113\n\n\n",
            "text/html": [
              "<style>\n",
              ".list-inline {list-style: none; margin:0; padding: 0}\n",
              ".list-inline>li {display: inline-block}\n",
              ".list-inline>li:not(:last-child)::after {content: \"\\00b7\"; padding: 0 .5ex}\n",
              "</style>\n",
              "<ol class=list-inline><li>95372</li><li>22113</li></ol>\n"
            ]
          },
          "metadata": {
            "tags": []
          }
        }
      ]
    },
    {
      "cell_type": "markdown",
      "metadata": {
        "id": "x4yyj2E7Jk37",
        "colab_type": "text"
      },
      "source": [
        "Here cells are in rows and genes are in columns, while usually in single cell analyses, cells are in columns and genes are in rows. Here most \"cells\" are empty droplets. What if we do PCA now? "
      ]
    },
    {
      "cell_type": "code",
      "metadata": {
        "id": "i9J_en5gHo2V",
        "colab_type": "code",
        "colab": {}
      },
      "source": [
        "# Perform PCA\n",
        "pca_res <- prcomp_irlba(mat, n = 2) # scales and centers by default\n",
        "pca_x <- as.data.frame(pca_res$x)"
      ],
      "execution_count": null,
      "outputs": []
    },
    {
      "cell_type": "code",
      "metadata": {
        "id": "MvO5jnLAVlnl",
        "colab_type": "code",
        "colab": {
          "base_uri": "https://localhost:8080/",
          "height": 377
        },
        "outputId": "dca22cf3-db28-454a-8890-80a923dcf209"
      },
      "source": [
        "# Plot the cells in the 2D PCA projection\n",
        "ggplot(pca_x, aes(PC1, PC2)) +\n",
        "  geom_point(alpha = 0.1, size = 0.5)"
      ],
      "execution_count": null,
      "outputs": [
        {
          "output_type": "display_data",
          "data": {
            "image/png": "[encoded data removed]",
            "text/plain": [
              "plot without title"
            ]
          },
          "metadata": {
            "tags": [],
            "image/png": {
              "width": 540,
              "height": 360
            },
            "text/plain": {
              "width": 540,
              "height": 360
            }
          }
        }
      ]
    },
    {
      "cell_type": "markdown",
      "metadata": {
        "id": "2Ag5uUSsamjy",
        "colab_type": "text"
      },
      "source": [
        "While the PCA plot shows the overall structure of the data, a visualization highlighting the density of points reveals a large number of droplets represented in the lower left corner.\n"
      ]
    },
    {
      "cell_type": "code",
      "metadata": {
        "id": "KwN-bIIblJj8",
        "colab_type": "code",
        "colab": {
          "base_uri": "https://localhost:8080/",
          "height": 377
        },
        "outputId": "9e3527fb-c601-4274-9194-9b89574b97d7"
      },
      "source": [
        "ggplot(pca_x, aes(PC1, PC2)) +\n",
        "  geom_bin2d(bins = 50) +\n",
        "  scale_fill_scico(palette = \"devon\", direction = -1, end = 0.95)"
      ],
      "execution_count": null,
      "outputs": [
        {
          "output_type": "display_data",
          "data": {
            "image/png": "[encoded data removed]",
            "text/plain": [
              "plot without title"
            ]
          },
          "metadata": {
            "tags": [],
            "image/png": {
              "width": 540,
              "height": 360
            },
            "text/plain": {
              "width": 540,
              "height": 360
            }
          }
        }
      ]
    },
    {
      "cell_type": "markdown",
      "metadata": {
        "id": "2Joz1bM8Zqri",
        "colab_type": "text"
      },
      "source": [
        "The following plot helps clarify the reason for the concentrated points in the lower-left corner of the PCA plot."
      ]
    },
    {
      "cell_type": "markdown",
      "metadata": {
        "id": "rmzB0pMbHJ5m",
        "colab_type": "text"
      },
      "source": [
        "### Test for library saturation"
      ]
    },
    {
      "cell_type": "code",
      "metadata": {
        "id": "s_Rr4dXPeEoz",
        "colab_type": "code",
        "colab": {}
      },
      "source": [
        "df2 <- tibble(nCount = rowSums(mat),\n",
        "              nGene = rowSums(mat > 0))"
      ],
      "execution_count": null,
      "outputs": []
    },
    {
      "cell_type": "code",
      "metadata": {
        "id": "ESxxU7a8A1Xm",
        "colab_type": "code",
        "colab": {
          "base_uri": "https://localhost:8080/",
          "height": 481
        },
        "outputId": "b0e20045-520a-4d04-fb13-35c980860ee7"
      },
      "source": [
        "ggplot(df2, aes(nCount, nGene)) +\n",
        "  geom_bin2d(bins = 50) +\n",
        "  scale_fill_scico(palette = \"devon\", direction = -1, end = 0.95) +\n",
        "  scale_x_log10() + scale_y_log10() + annotation_logticks() +\n",
        "  labs(x = \"Total UMI counts\", y = \"Number of genes detected\")"
      ],
      "execution_count": null,
      "outputs": [
        {
          "output_type": "stream",
          "text": [
            "Warning message:\n",
            "“Transformation introduced infinite values in continuous x-axis”\n",
            "Warning message:\n",
            "“Transformation introduced infinite values in continuous y-axis”\n",
            "Warning message:\n",
            "“Removed 1018 rows containing non-finite values (stat_bin2d).”\n"
          ],
          "name": "stderr"
        },
        {
          "output_type": "display_data",
          "data": {
            "image/png": "[encoded data removed]",
            "text/plain": [
              "plot without title"
            ]
          },
          "metadata": {
            "tags": [],
            "image/png": {
              "width": 540,
              "height": 360
            },
            "text/plain": {
              "width": 540,
              "height": 360
            }
          }
        }
      ]
    },
    {
      "cell_type": "markdown",
      "metadata": {
        "id": "sq2urC1QZz5c",
        "colab_type": "text"
      },
      "source": [
        "Here we see that there are a large number of near empty droplets. A useful approach to filtering out such data is the \"knee plot\" shown below."
      ]
    },
    {
      "cell_type": "markdown",
      "metadata": {
        "id": "jKdKHhryJ-3p",
        "colab_type": "text"
      },
      "source": [
        "### Examine the knee plot\n",
        "\n",
        "The \"knee plot\" was introduced in the Drop-seq paper: \n",
        "- Macosko et al., [Highly parallel genome-wide expression profiling of individual cells using nanoliter droplets](https://www.cell.com/fulltext/S0092-8674(15)00549-8), 2015. DOI:10.1016/j.cell.2015.05.002\n",
        "\n",
        "In this plot cells are ordered by the number of UMI counts associated to them (shown on the *x*-axis), and the fraction of droplets with at least that number of cells is shown on the *y*-axis:"
      ]
    },
    {
      "cell_type": "code",
      "metadata": {
        "id": "2bPmnjIe8AOK",
        "colab_type": "code",
        "colab": {
          "base_uri": "https://localhost:8080/",
          "height": 412
        },
        "outputId": "2ac227e9-578f-48fe-ab86-c9f1e652a727"
      },
      "source": [
        "# Create the knee plot \n",
        "tot_counts <- rowSums(mat)\n",
        "df <- tibble(total = tot_counts,\n",
        "             rank = row_number(desc(total))) %>%\n",
        "      distinct() %>%\n",
        "      arrange(rank)\n",
        "      \n",
        "options(repr.plot.width=9, repr.plot.height=6)\n",
        "ggplot(df, aes(total, rank)) +\n",
        "  geom_path() +\n",
        "  scale_x_log10() + scale_y_log10() + annotation_logticks() +\n",
        "  labs(y = \"Barcode rank\", x = \"Total UMI count\")"
      ],
      "execution_count": null,
      "outputs": [
        {
          "output_type": "stream",
          "text": [
            "Warning message:\n",
            "“Transformation introduced infinite values in continuous x-axis”\n"
          ],
          "name": "stderr"
        },
        {
          "output_type": "display_data",
          "data": {
            "image/png": "[encoded data removed]",
            "text/plain": [
              "plot without title"
            ]
          },
          "metadata": {
            "tags": [],
            "image/png": {
              "width": 540,
              "height": 360
            },
            "text/plain": {
              "width": 540,
              "height": 360
            }
          }
        }
      ]
    },
    {
      "cell_type": "code",
      "metadata": {
        "id": "cZJR-kKElvOr",
        "colab_type": "code",
        "colab": {}
      },
      "source": [
        "# An option is to filter the cells and genes by a threshold\n",
        "# mat_filtered <- mat[rowSums(mat) > 30, colSums(mat) > 0]"
      ],
      "execution_count": null,
      "outputs": []
    },
    {
      "cell_type": "markdown",
      "metadata": {
        "id": "hJbZr_evLTx-",
        "colab_type": "text"
      },
      "source": [
        "### Exercises"
      ]
    },
    {
      "cell_type": "markdown",
      "metadata": {
        "id": "LnpGi8Hsaup_",
        "colab_type": "text"
      },
      "source": [
        "- The \"knee plot\" is sometimes shown with the UMI counts on the y-axis instead of the x-axis, i.e. flipped and rotated 90 degrees. Make the flipped and rotated plot. Is there a reason to prefer one orientation over the other?"
      ]
    },
    {
      "cell_type": "code",
      "metadata": {
        "id": "-OWBbNWza187",
        "colab_type": "code",
        "colab": {}
      },
      "source": [
        "# # Create the flipped and rotated knee plot \n",
        "# tot_counts <- rowSums(mat)\n",
        "# df <- tibble(total = tot_counts,\n",
        "#              rank = row_number(desc(total))) %>%\n",
        "#       distinct() %>%\n",
        "#       arrange(rank)\n",
        "#       \n",
        "# options(repr.plot.width=9, repr.plot.height=6)\n",
        "# ggplot(df, aes(rank, total)) +\n",
        "#   geom_path() +\n",
        "#   scale_y_log10() + scale_x_log10() + annotation_logticks() +\n",
        "#   labs(y = \"Total UMI count\", x = \"Barcode rank\")"
      ],
      "execution_count": null,
      "outputs": []
    },
    {
      "cell_type": "markdown",
      "metadata": {
        "id": "vTb2nNUQgUZX",
        "colab_type": "text"
      },
      "source": [
        "For more information on this exercise see [Rotating the knee (plot) and related yoga](https://liorpachter.wordpress.com/2019/06/24/rotating-the-knee-plot-and-related-yoga/)."
      ]
    },
    {
      "cell_type": "markdown",
      "metadata": {
        "id": "9qyrqamZKEVu",
        "colab_type": "text"
      },
      "source": [
        "## Discussion"
      ]
    },
    {
      "cell_type": "markdown",
      "metadata": {
        "id": "Rt-DPxaNKGrQ",
        "colab_type": "text"
      },
      "source": [
        "This notebook has demonstrated the pre-processing required for single-cell RNA-seq analysis. `kb` is used to pseudoalign reads and to generate a *cells x genes* matrix. Following generation of a matrix, basic QC helps to assess the quality of the data."
      ]
    },
    {
      "cell_type": "code",
      "metadata": {
        "id": "MXhNZGaIG9C4",
        "colab_type": "code",
        "colab": {
          "base_uri": "https://localhost:8080/",
          "height": 34
        },
        "outputId": "9c8029ee-ecb8-4db1-ad10-8a714e4cfbe9"
      },
      "source": [
        "# Running time of the notebook\n",
        "Sys.time() - start_time"
      ],
      "execution_count": null,
      "outputs": [
        {
          "output_type": "display_data",
          "data": {
            "text/plain": [
              "Time difference of 2.6641 mins"
            ]
          },
          "metadata": {
            "tags": []
          }
        }
      ]
    },
    {
      "cell_type": "markdown",
      "metadata": {
        "id": "ApZk6mJSS7HJ",
        "colab_type": "text"
      },
      "source": [
        "**Feedback**: please report any issues, or submit pull requests for improvements, in the [Github repository where this notebook is located](https://github.com/pachterlab/kallistobustools/blob/master/notebooks/kb_intro_1_R.ipynb)."
      ]
    }
  ]
}